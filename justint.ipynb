{
 "cells": [
  {
   "metadata": {},
   "cell_type": "markdown",
   "source": [
    "#### Do the frequencies of notes quantized to multiples of one root remain constant when quantized to another?\n",
    "\n",
    "If so, identical musical intervals should correspond to identical frequency ratios in a just intonation."
   ]
  },
  {
   "metadata": {
    "ExecuteTime": {
     "end_time": "2024-06-18T05:33:49.666430Z",
     "start_time": "2024-06-18T05:33:49.660901Z"
    }
   },
   "cell_type": "code",
   "source": [
    "from sympy import Rational\n",
    "\n",
    "C = Rational(1, 1)\n",
    "D = Rational(9, 8)\n",
    "E = Rational(5, 4)\n",
    "F = Rational(4, 3)\n",
    "G = Rational(3, 2)\n",
    "A = Rational(5, 3)\n",
    "B = Rational(15, 8)"
   ],
   "outputs": [],
   "execution_count": 27
  },
  {
   "metadata": {},
   "cell_type": "markdown",
   "source": "Three minor thirds:"
  },
  {
   "metadata": {
    "ExecuteTime": {
     "end_time": "2024-06-18T05:33:19.544454Z",
     "start_time": "2024-06-18T05:33:19.530210Z"
    }
   },
   "cell_type": "code",
   "source": "G / E",
   "outputs": [
    {
     "data": {
      "text/plain": [
       "6/5"
      ],
      "text/latex": "$\\displaystyle \\frac{6}{5}$"
     },
     "execution_count": 26,
     "metadata": {},
     "output_type": "execute_result"
    }
   ],
   "execution_count": 26
  },
  {
   "metadata": {},
   "cell_type": "code",
   "outputs": [
    {
     "data": {
      "text/plain": [
       "6/5"
      ],
      "text/latex": "$\\displaystyle \\frac{6}{5}$"
     },
     "execution_count": 30,
     "metadata": {},
     "output_type": "execute_result"
    }
   ],
   "execution_count": 30,
   "source": "2 * C / A"
  },
  {
   "metadata": {},
   "cell_type": "code",
   "outputs": [
    {
     "data": {
      "text/plain": [
       "32/27"
      ],
      "text/latex": "$\\displaystyle \\frac{32}{27}$"
     },
     "execution_count": 23,
     "metadata": {},
     "output_type": "execute_result"
    }
   ],
   "execution_count": 23,
   "source": "F / D"
  },
  {
   "metadata": {},
   "cell_type": "markdown",
   "source": "Answer: nope, there is no such thing as a universal just intonation."
  }
 ],
 "metadata": {
  "kernelspec": {
   "display_name": ".venv",
   "language": "python",
   "name": "python3"
  },
  "language_info": {
   "codemirror_mode": {
    "name": "ipython",
    "version": 3
   },
   "file_extension": ".py",
   "mimetype": "text/x-python",
   "name": "python",
   "nbconvert_exporter": "python",
   "pygments_lexer": "ipython3",
   "version": "3.12.3"
  }
 },
 "nbformat": 4,
 "nbformat_minor": 2
}
